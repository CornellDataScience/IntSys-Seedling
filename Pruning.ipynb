{
 "cells": [
  {
   "cell_type": "code",
   "execution_count": 25,
   "metadata": {},
   "outputs": [],
   "source": [
    "import torch\n",
    "from torch.nn import Conv2d, ReLU, MaxPool2d\n",
    "from torch.autograd import Variable\n",
    "from torchvision import models\n",
    "import cv2\n",
    "import sys\n",
    "import numpy as np\n",
    "import time"
   ]
  },
  {
   "cell_type": "code",
   "execution_count": 20,
   "metadata": {},
   "outputs": [],
   "source": [
    "def replace_layers(model, i, indexes, layers):\n",
    "    if i in indexes:\n",
    "        return layers[indexes.index(i)]\n",
    "    return model[i]"
   ]
  },
  {
   "cell_type": "code",
   "execution_count": 103,
   "metadata": {},
   "outputs": [],
   "source": [
    "def prune_conv_layer(model, layer_index, filter_index):\n",
    "    conv = model.features._modules[str(layer_index)]\n",
    "    next_conv = None\n",
    "    offset = 1\n",
    "    \n",
    "    while layer_index + offset <  len(model.features._modules.items()):\n",
    "        res =  model.features._modules[str(layer_index+offset)]\n",
    "        if isinstance(res, torch.nn.modules.conv.Conv2d):\n",
    "            next_name = str(layer_index+offset) \n",
    "            next_conv = res\n",
    "            break\n",
    "        offset = offset + 1\n",
    "    \n",
    "    new_conv = \\\n",
    "        torch.nn.Conv2d(in_channels = conv.in_channels, \\\n",
    "            out_channels = conv.out_channels - 1,\n",
    "            kernel_size = conv.kernel_size, \\\n",
    "            stride = conv.stride,\n",
    "            padding = conv.padding,\n",
    "            dilation = conv.dilation,\n",
    "            groups = conv.groups,\n",
    "            bias = True)\n",
    "\n",
    "    old_weights = conv.weight.data.cpu().numpy()\n",
    "    new_weights = new_conv.weight.data.cpu().numpy()\n",
    "\n",
    "    new_weights[: filter_index, :, :, :] = old_weights[: filter_index, :, :, :]\n",
    "    new_weights[filter_index : , :, :, :] = old_weights[filter_index + 1 :, :, :, :]\n",
    "    if torch.cuda.is_available():\n",
    "        new_conv.weight.data = torch.from_numpy(new_weights).cuda()\n",
    "    else:\n",
    "        new_conv.weight.data = torch.from_numpy(new_weights).cpu()\n",
    "\n",
    "    bias_numpy = conv.bias.data.cpu().numpy()\n",
    "\n",
    "    bias = np.zeros(shape = (bias_numpy.shape[0] - 1), dtype = np.float32)\n",
    "    bias[:filter_index] = bias_numpy[:filter_index]\n",
    "    bias[filter_index : ] = bias_numpy[filter_index + 1 :]\n",
    "    if torch.cuda.is_available():\n",
    "        new_conv.bias.data = torch.from_numpy(bias).cuda()\n",
    "    else:\n",
    "        new_conv.bias.data = torch.from_numpy(bias).cpu()\n",
    "\n",
    "    if not next_conv is None:\n",
    "        next_new_conv = \\\n",
    "            torch.nn.Conv2d(in_channels = next_conv.in_channels - 1,\\\n",
    "                out_channels =  next_conv.out_channels, \\\n",
    "                kernel_size = next_conv.kernel_size, \\\n",
    "                stride = next_conv.stride,\n",
    "                padding = next_conv.padding,\n",
    "                dilation = next_conv.dilation,\n",
    "                groups = next_conv.groups,\n",
    "                bias = next_conv.bias)\n",
    "\n",
    "        old_weights = next_conv.weight.data.cpu().numpy()\n",
    "        new_weights = next_new_conv.weight.data.cpu().numpy()\n",
    "\n",
    "        new_weights[:, : filter_index, :, :] = old_weights[:, : filter_index, :, :]\n",
    "        new_weights[:, filter_index : , :, :] = old_weights[:, filter_index + 1 :, :, :]\n",
    "        if torch.cuda.is_available():\n",
    "            next_new_conv.weight.data = torch.from_numpy(new_weights).cuda()\n",
    "        else:\n",
    "            next_new_conv.weight.data = torch.from_numpy(new_weights).cpu()\n",
    "\n",
    "        next_new_conv.bias.data = next_conv.bias.data\n",
    "\n",
    "    if not next_conv is None:\n",
    "        features = torch.nn.Sequential(\n",
    "                *(replace_layers(model.features, i, [layer_index, layer_index+offset], \\\n",
    "                    [new_conv, next_new_conv]) for i, _ in enumerate(model.features)))\n",
    "        del model.features\n",
    "        del conv\n",
    "\n",
    "        model.features = features\n",
    "\n",
    "    else:\n",
    "        #Prunning the last conv layer. This affects the first linear layer of the classifier.\n",
    "        model.features = torch.nn.Sequential(\n",
    "                *(replace_layers(model.features, i, [layer_index], \\\n",
    "                    [new_conv]) for i, _ in enumerate(model.features)))\n",
    "        layer_index = 0\n",
    "        old_linear_layer = None\n",
    "        for _, module in model.classifier._modules.items():\n",
    "            if isinstance(module, torch.nn.Linear):\n",
    "                old_linear_layer = module\n",
    "                break\n",
    "            layer_index = layer_index  + 1\n",
    "\n",
    "        if old_linear_layer is None:\n",
    "            raise BaseException(\"No linear layer found in classifier\")\n",
    "        params_per_input_channel = int(old_linear_layer.in_features / conv.out_channels)\n",
    "        \n",
    "        new_linear_layer = \\\n",
    "            torch.nn.Linear(old_linear_layer.in_features - params_per_input_channel, \n",
    "                old_linear_layer.out_features)\n",
    "\n",
    "        old_weights = old_linear_layer.weight.data.cpu().numpy()\n",
    "        new_weights = new_linear_layer.weight.data.cpu().numpy()\n",
    "\n",
    "        new_weights[:, : filter_index * params_per_input_channel] = \\\n",
    "            old_weights[:, : filter_index * params_per_input_channel]\n",
    "        new_weights[:, filter_index * params_per_input_channel :] = \\\n",
    "            old_weights[:, (filter_index + 1) * params_per_input_channel :]\n",
    "\n",
    "        new_linear_layer.bias.data = old_linear_layer.bias.data\n",
    "        \n",
    "        if torch.cuda.is_available():\n",
    "            new_linear_layer.weight.data = torch.from_numpy(new_weights).cuda()\n",
    "        else:\n",
    "            new_linear_layer.weight.data = torch.from_numpy(new_weights).cpu()\n",
    "\n",
    "        classifier = torch.nn.Sequential(\n",
    "            *(replace_layers(model.classifier, i, [layer_index], \\\n",
    "                [new_linear_layer]) for i, _ in enumerate(model.classifier)))\n",
    "\n",
    "        del model.classifier\n",
    "        del next_conv\n",
    "        del conv\n",
    "        model.classifier = classifier\n",
    "\n",
    "    return model"
   ]
  },
  {
   "cell_type": "code",
   "execution_count": 107,
   "metadata": {},
   "outputs": [
    {
     "name": "stdout",
     "output_type": "stream",
     "text": [
      "The prunning took 0.9545621871948242 seconds\n"
     ]
    }
   ],
   "source": [
    "#on other data, not ours\n",
    "\n",
    "model = models.vgg16(pretrained=True)\n",
    "model.train()\n",
    "t0 = time.time()\n",
    "model = prune_conv_layer(model, 28, 10)\n",
    "print (\"The prunning took \" + str(time.time() - t0) + \" seconds\")"
   ]
  },
  {
   "cell_type": "code",
   "execution_count": 108,
   "metadata": {},
   "outputs": [
    {
     "ename": "FileNotFoundError",
     "evalue": "[Errno 2] No such file or directory: 'VGG16_v2-OCT_Retina_half_dataset.pt'",
     "output_type": "error",
     "traceback": [
      "\u001b[0;31m---------------------------------------------------------------------------\u001b[0m",
      "\u001b[0;31mFileNotFoundError\u001b[0m                         Traceback (most recent call last)",
      "\u001b[0;32m<ipython-input-108-f15875bbc6ec>\u001b[0m in \u001b[0;36m<module>\u001b[0;34m\u001b[0m\n\u001b[0;32m----> 1\u001b[0;31m \u001b[0mtorch\u001b[0m\u001b[0;34m.\u001b[0m\u001b[0mload\u001b[0m\u001b[0;34m(\u001b[0m\u001b[0;34m'VGG16_v2-OCT_Retina_half_dataset.pt'\u001b[0m\u001b[0;34m)\u001b[0m\u001b[0;34m\u001b[0m\u001b[0;34m\u001b[0m\u001b[0m\n\u001b[0m",
      "\u001b[0;32m~/anaconda3/lib/python3.6/site-packages/torch/serialization.py\u001b[0m in \u001b[0;36mload\u001b[0;34m(f, map_location, pickle_module)\u001b[0m\n\u001b[1;32m    364\u001b[0m             \u001b[0;34m(\u001b[0m\u001b[0msys\u001b[0m\u001b[0;34m.\u001b[0m\u001b[0mversion_info\u001b[0m\u001b[0;34m[\u001b[0m\u001b[0;36m0\u001b[0m\u001b[0;34m]\u001b[0m \u001b[0;34m==\u001b[0m \u001b[0;36m3\u001b[0m \u001b[0;32mand\u001b[0m \u001b[0misinstance\u001b[0m\u001b[0;34m(\u001b[0m\u001b[0mf\u001b[0m\u001b[0;34m,\u001b[0m \u001b[0mpathlib\u001b[0m\u001b[0;34m.\u001b[0m\u001b[0mPath\u001b[0m\u001b[0;34m)\u001b[0m\u001b[0;34m)\u001b[0m\u001b[0;34m:\u001b[0m\u001b[0;34m\u001b[0m\u001b[0;34m\u001b[0m\u001b[0m\n\u001b[1;32m    365\u001b[0m         \u001b[0mnew_fd\u001b[0m \u001b[0;34m=\u001b[0m \u001b[0;32mTrue\u001b[0m\u001b[0;34m\u001b[0m\u001b[0;34m\u001b[0m\u001b[0m\n\u001b[0;32m--> 366\u001b[0;31m         \u001b[0mf\u001b[0m \u001b[0;34m=\u001b[0m \u001b[0mopen\u001b[0m\u001b[0;34m(\u001b[0m\u001b[0mf\u001b[0m\u001b[0;34m,\u001b[0m \u001b[0;34m'rb'\u001b[0m\u001b[0;34m)\u001b[0m\u001b[0;34m\u001b[0m\u001b[0;34m\u001b[0m\u001b[0m\n\u001b[0m\u001b[1;32m    367\u001b[0m     \u001b[0;32mtry\u001b[0m\u001b[0;34m:\u001b[0m\u001b[0;34m\u001b[0m\u001b[0;34m\u001b[0m\u001b[0m\n\u001b[1;32m    368\u001b[0m         \u001b[0;32mreturn\u001b[0m \u001b[0m_load\u001b[0m\u001b[0;34m(\u001b[0m\u001b[0mf\u001b[0m\u001b[0;34m,\u001b[0m \u001b[0mmap_location\u001b[0m\u001b[0;34m,\u001b[0m \u001b[0mpickle_module\u001b[0m\u001b[0;34m)\u001b[0m\u001b[0;34m\u001b[0m\u001b[0;34m\u001b[0m\u001b[0m\n",
      "\u001b[0;31mFileNotFoundError\u001b[0m: [Errno 2] No such file or directory: 'VGG16_v2-OCT_Retina_half_dataset.pt'"
     ]
    }
   ],
   "source": [
    "#running on our data\n",
    "our_vgg_model = torch.load('test.pt')\n",
    "summary(our_vgg_model_model)\n",
    "t0_vgg = time.time()\n",
    "our_vgg_model = prune_conv_layer(model, 27, 10) # change to reflect what conv layer we want to prune\n",
    "print (\"The prunning took \" + str(time.time() - t0) + \" seconds\")"
   ]
  },
  {
   "cell_type": "code",
   "execution_count": null,
   "metadata": {},
   "outputs": [],
   "source": []
  }
 ],
 "metadata": {
  "kernelspec": {
   "display_name": "Python 3",
   "language": "python",
   "name": "python3"
  },
  "language_info": {
   "codemirror_mode": {
    "name": "ipython",
    "version": 3
   },
   "file_extension": ".py",
   "mimetype": "text/x-python",
   "name": "python",
   "nbconvert_exporter": "python",
   "pygments_lexer": "ipython3",
   "version": "3.6.8"
  }
 },
 "nbformat": 4,
 "nbformat_minor": 2
}
